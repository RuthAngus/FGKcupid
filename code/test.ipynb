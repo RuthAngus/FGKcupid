{
 "cells": [
  {
   "cell_type": "code",
   "execution_count": 1,
   "metadata": {
    "collapsed": false
   },
   "outputs": [],
   "source": [
    "import numpy as np\n",
    "import matplotlib.pyplot as plt\n",
    "%matplotlib inline\n",
    "import george\n",
    "from george.kernels import ExpSquaredKernel\n",
    "import pandas as pd   "
   ]
  },
  {
   "cell_type": "markdown",
   "metadata": {},
   "source": [
    "Load the data"
   ]
  },
  {
   "cell_type": "code",
   "execution_count": 2,
   "metadata": {
    "collapsed": false
   },
   "outputs": [
    {
     "data": {
      "text/html": [
       "<div>\n",
       "<table border=\"1\" class=\"dataframe\">\n",
       "  <thead>\n",
       "    <tr style=\"text-align: right;\">\n",
       "      <th></th>\n",
       "      <th>kid</th>\n",
       "      <th>mass</th>\n",
       "      <th>merr</th>\n",
       "      <th>age</th>\n",
       "      <th>aerr</th>\n",
       "      <th>z</th>\n",
       "      <th>zerr</th>\n",
       "      <th>period</th>\n",
       "      <th>perr</th>\n",
       "      <th>teff</th>\n",
       "      <th>terr</th>\n",
       "    </tr>\n",
       "  </thead>\n",
       "  <tbody>\n",
       "    <tr>\n",
       "      <th>0</th>\n",
       "      <td>6116048</td>\n",
       "      <td>1.01</td>\n",
       "      <td>0.030</td>\n",
       "      <td>6.23</td>\n",
       "      <td>0.370</td>\n",
       "      <td>0.0118</td>\n",
       "      <td>0.0011</td>\n",
       "      <td>17.26</td>\n",
       "      <td>1.960</td>\n",
       "      <td>6072</td>\n",
       "      <td>49</td>\n",
       "    </tr>\n",
       "    <tr>\n",
       "      <th>1</th>\n",
       "      <td>7871531</td>\n",
       "      <td>0.84</td>\n",
       "      <td>0.020</td>\n",
       "      <td>9.15</td>\n",
       "      <td>0.470</td>\n",
       "      <td>0.0125</td>\n",
       "      <td>0.0014</td>\n",
       "      <td>33.72</td>\n",
       "      <td>2.600</td>\n",
       "      <td>5378</td>\n",
       "      <td>57</td>\n",
       "    </tr>\n",
       "    <tr>\n",
       "      <th>2</th>\n",
       "      <td>8006161</td>\n",
       "      <td>1.04</td>\n",
       "      <td>0.020</td>\n",
       "      <td>5.04</td>\n",
       "      <td>0.170</td>\n",
       "      <td>0.0427</td>\n",
       "      <td>0.0052</td>\n",
       "      <td>29.79</td>\n",
       "      <td>3.090</td>\n",
       "      <td>5264</td>\n",
       "      <td>104</td>\n",
       "    </tr>\n",
       "    <tr>\n",
       "      <th>3</th>\n",
       "      <td>9098294</td>\n",
       "      <td>1.00</td>\n",
       "      <td>0.030</td>\n",
       "      <td>7.28</td>\n",
       "      <td>0.510</td>\n",
       "      <td>0.0143</td>\n",
       "      <td>0.0018</td>\n",
       "      <td>19.79</td>\n",
       "      <td>1.330</td>\n",
       "      <td>6020</td>\n",
       "      <td>51</td>\n",
       "    </tr>\n",
       "    <tr>\n",
       "      <th>4</th>\n",
       "      <td>9955598</td>\n",
       "      <td>0.89</td>\n",
       "      <td>0.020</td>\n",
       "      <td>6.72</td>\n",
       "      <td>0.200</td>\n",
       "      <td>0.0231</td>\n",
       "      <td>0.0017</td>\n",
       "      <td>34.20</td>\n",
       "      <td>5.640</td>\n",
       "      <td>5434</td>\n",
       "      <td>77</td>\n",
       "    </tr>\n",
       "    <tr>\n",
       "      <th>5</th>\n",
       "      <td>10454113</td>\n",
       "      <td>1.19</td>\n",
       "      <td>0.040</td>\n",
       "      <td>2.03</td>\n",
       "      <td>0.290</td>\n",
       "      <td>0.0168</td>\n",
       "      <td>0.0012</td>\n",
       "      <td>14.61</td>\n",
       "      <td>1.090</td>\n",
       "      <td>6197</td>\n",
       "      <td>45</td>\n",
       "    </tr>\n",
       "    <tr>\n",
       "      <th>6</th>\n",
       "      <td>10644253</td>\n",
       "      <td>1.13</td>\n",
       "      <td>0.050</td>\n",
       "      <td>1.07</td>\n",
       "      <td>0.250</td>\n",
       "      <td>0.0239</td>\n",
       "      <td>0.0024</td>\n",
       "      <td>10.91</td>\n",
       "      <td>0.870</td>\n",
       "      <td>6069</td>\n",
       "      <td>50</td>\n",
       "    </tr>\n",
       "    <tr>\n",
       "      <th>7</th>\n",
       "      <td>10963065</td>\n",
       "      <td>1.05</td>\n",
       "      <td>0.020</td>\n",
       "      <td>4.30</td>\n",
       "      <td>0.230</td>\n",
       "      <td>0.0118</td>\n",
       "      <td>0.0010</td>\n",
       "      <td>12.58</td>\n",
       "      <td>1.700</td>\n",
       "      <td>6316</td>\n",
       "      <td>45</td>\n",
       "    </tr>\n",
       "    <tr>\n",
       "      <th>8</th>\n",
       "      <td>11244118</td>\n",
       "      <td>1.10</td>\n",
       "      <td>0.050</td>\n",
       "      <td>6.43</td>\n",
       "      <td>0.580</td>\n",
       "      <td>0.0272</td>\n",
       "      <td>0.0034</td>\n",
       "      <td>23.17</td>\n",
       "      <td>3.890</td>\n",
       "      <td>5618</td>\n",
       "      <td>64</td>\n",
       "    </tr>\n",
       "    <tr>\n",
       "      <th>9</th>\n",
       "      <td>12009504</td>\n",
       "      <td>1.12</td>\n",
       "      <td>0.030</td>\n",
       "      <td>3.64</td>\n",
       "      <td>0.260</td>\n",
       "      <td>0.0152</td>\n",
       "      <td>0.0011</td>\n",
       "      <td>9.39</td>\n",
       "      <td>0.680</td>\n",
       "      <td>6270</td>\n",
       "      <td>61</td>\n",
       "    </tr>\n",
       "    <tr>\n",
       "      <th>10</th>\n",
       "      <td>12258514</td>\n",
       "      <td>1.19</td>\n",
       "      <td>0.030</td>\n",
       "      <td>4.03</td>\n",
       "      <td>0.320</td>\n",
       "      <td>0.0197</td>\n",
       "      <td>0.0015</td>\n",
       "      <td>15.00</td>\n",
       "      <td>1.840</td>\n",
       "      <td>5990</td>\n",
       "      <td>85</td>\n",
       "    </tr>\n",
       "    <tr>\n",
       "      <th>11</th>\n",
       "      <td>sun</td>\n",
       "      <td>1.00</td>\n",
       "      <td>0.001</td>\n",
       "      <td>4.57</td>\n",
       "      <td>0.001</td>\n",
       "      <td>0.0000</td>\n",
       "      <td>0.0010</td>\n",
       "      <td>26.00</td>\n",
       "      <td>0.001</td>\n",
       "      <td>5700</td>\n",
       "      <td>10</td>\n",
       "    </tr>\n",
       "    <tr>\n",
       "      <th>12</th>\n",
       "      <td>16CygA</td>\n",
       "      <td>1.08</td>\n",
       "      <td>0.020</td>\n",
       "      <td>7.00</td>\n",
       "      <td>0.300</td>\n",
       "      <td>0.0210</td>\n",
       "      <td>0.0020</td>\n",
       "      <td>23.80</td>\n",
       "      <td>1.650</td>\n",
       "      <td>5825</td>\n",
       "      <td>50</td>\n",
       "    </tr>\n",
       "    <tr>\n",
       "      <th>13</th>\n",
       "      <td>16CygB</td>\n",
       "      <td>1.04</td>\n",
       "      <td>0.020</td>\n",
       "      <td>7.00</td>\n",
       "      <td>0.300</td>\n",
       "      <td>0.0210</td>\n",
       "      <td>0.0020</td>\n",
       "      <td>23.20</td>\n",
       "      <td>7.350</td>\n",
       "      <td>5750</td>\n",
       "      <td>50</td>\n",
       "    </tr>\n",
       "  </tbody>\n",
       "</table>\n",
       "</div>"
      ],
      "text/plain": [
       "         kid  mass   merr   age   aerr       z    zerr  period   perr  teff  \\\n",
       "0    6116048  1.01  0.030  6.23  0.370  0.0118  0.0011   17.26  1.960  6072   \n",
       "1    7871531  0.84  0.020  9.15  0.470  0.0125  0.0014   33.72  2.600  5378   \n",
       "2    8006161  1.04  0.020  5.04  0.170  0.0427  0.0052   29.79  3.090  5264   \n",
       "3    9098294  1.00  0.030  7.28  0.510  0.0143  0.0018   19.79  1.330  6020   \n",
       "4    9955598  0.89  0.020  6.72  0.200  0.0231  0.0017   34.20  5.640  5434   \n",
       "5   10454113  1.19  0.040  2.03  0.290  0.0168  0.0012   14.61  1.090  6197   \n",
       "6   10644253  1.13  0.050  1.07  0.250  0.0239  0.0024   10.91  0.870  6069   \n",
       "7   10963065  1.05  0.020  4.30  0.230  0.0118  0.0010   12.58  1.700  6316   \n",
       "8   11244118  1.10  0.050  6.43  0.580  0.0272  0.0034   23.17  3.890  5618   \n",
       "9   12009504  1.12  0.030  3.64  0.260  0.0152  0.0011    9.39  0.680  6270   \n",
       "10  12258514  1.19  0.030  4.03  0.320  0.0197  0.0015   15.00  1.840  5990   \n",
       "11       sun  1.00  0.001  4.57  0.001  0.0000  0.0010   26.00  0.001  5700   \n",
       "12    16CygA  1.08  0.020  7.00  0.300  0.0210  0.0020   23.80  1.650  5825   \n",
       "13    16CygB  1.04  0.020  7.00  0.300  0.0210  0.0020   23.20  7.350  5750   \n",
       "\n",
       "    terr  \n",
       "0     49  \n",
       "1     57  \n",
       "2    104  \n",
       "3     51  \n",
       "4     77  \n",
       "5     45  \n",
       "6     50  \n",
       "7     45  \n",
       "8     64  \n",
       "9     61  \n",
       "10    85  \n",
       "11    10  \n",
       "12    50  \n",
       "13    50  "
      ]
     },
     "execution_count": 2,
     "metadata": {},
     "output_type": "execute_result"
    }
   ],
   "source": [
    "data = pd.read_csv(\"../data/sun_sample.txt\", delim_whitespace=True)\n",
    "period = np.array(data[\"period\"])\n",
    "perr = np.array(data[\"perr\"])\n",
    "teff = np.array(data[\"teff\"])\n",
    "terr = np.array(data[\"terr\"])\n",
    "age = np.array(data[\"age\"])\n",
    "aerr = np.array(data[\"aerr\"])\n",
    "z = np.array(data[\"z\"])\n",
    "zerr = np.array(data[\"zerr\"])\n",
    "data"
   ]
  },
  {
   "cell_type": "code",
   "execution_count": null,
   "metadata": {
    "collapsed": true
   },
   "outputs": [],
   "source": []
  },
  {
   "cell_type": "code",
   "execution_count": 5,
   "metadata": {
    "collapsed": false
   },
   "outputs": [
    {
     "name": "stderr",
     "output_type": "stream",
     "text": [
      "/Users/ruthangus/anaconda/lib/python3.5/site-packages/matplotlib/collections.py:590: FutureWarning: elementwise comparison failed; returning scalar instead, but in the future will perform elementwise comparison\n",
      "  if self._edgecolors == str('face'):\n"
     ]
    },
    {
     "data": {
      "image/png": "[encoded data removed]",
      "text/plain": [
       "<matplotlib.figure.Figure at 0x10a6e5278>"
      ]
     },
     "metadata": {},
     "output_type": "display_data"
    }
   ],
   "source": [
    "from mpl_toolkits.mplot3d import Axes3D\n",
    "fig = plt.figure(figsize=(20,10))\n",
    "ax = fig.add_subplot(1, 2, 1, projection='3d')\n",
    "ax.scatter(teff[:-3], age[:-3], period[:-3])\n",
    "ax.scatter(teff[-3:], age[-3:], period[-3:], color=\"r\")\n",
    "ax.set_xlabel(\"teff\")\n",
    "ax.set_ylabel(\"age\")\n",
    "ax.set_zlabel(\"period\")\n",
    "ax.view_init(20, 60)"
   ]
  },
  {
   "cell_type": "code",
   "execution_count": 18,
   "metadata": {
    "collapsed": false
   },
   "outputs": [
    {
     "data": {
      "text/plain": [
       "<matplotlib.collections.PolyCollection at 0x10e8b0080>"
      ]
     },
     "execution_count": 18,
     "metadata": {},
     "output_type": "execute_result"
    },
    {
     "name": "stderr",
     "output_type": "stream",
     "text": [
      "/Users/ruthangus/anaconda/lib/python3.5/site-packages/matplotlib/collections.py:590: FutureWarning: elementwise comparison failed; returning scalar instead, but in the future will perform elementwise comparison\n",
      "  if self._edgecolors == str('face'):\n"
     ]
    },
    {
     "data": {
      "image/png": "[encoded data removed]",
      "text/plain": [
       "<matplotlib.figure.Figure at 0x10e8cf828>"
      ]
     },
     "metadata": {},
     "output_type": "display_data"
    }
   ],
   "source": [
    "x, y, xerr, yerr = age, period, aerr, perr\n",
    "plt.errorbar(x, y, xerr=xerr, yerr=yerr, fmt=\"k.\")\n",
    "plt.ylabel(\"period (days)\")\n",
    "plt.xlabel(\"age (Gyr)\")\n",
    "\n",
    "# GP prediction\n",
    "A, l = 10, 20 # , 600, .8, .3\n",
    "k = A**2 * ExpSquaredKernel(l**2)\n",
    "gp = george.GP(k)\n",
    "gp.compute(x, yerr)\n",
    "#gp.optimize(x, y, yerr)\n",
    "xs = np.linspace(min(x), max(x), 1000)\n",
    "mu, cov = gp.predict(y, xs)  # do the prediction\n",
    "v = np.diag(cov)**.5\n",
    "plt.plot(xs, mu)\n",
    "plt.fill_between(xs, mu-v, mu+v, alpha=.2)"
   ]
  },
  {
   "cell_type": "code",
   "execution_count": 19,
   "metadata": {
    "collapsed": false
   },
   "outputs": [
    {
     "data": {
      "text/plain": [
       "<matplotlib.collections.PolyCollection at 0x10ea09be0>"
      ]
     },
     "execution_count": 19,
     "metadata": {},
     "output_type": "execute_result"
    },
    {
     "name": "stderr",
     "output_type": "stream",
     "text": [
      "/Users/ruthangus/anaconda/lib/python3.5/site-packages/matplotlib/collections.py:590: FutureWarning: elementwise comparison failed; returning scalar instead, but in the future will perform elementwise comparison\n",
      "  if self._edgecolors == str('face'):\n"
     ]
    },
    {
     "data": {
      "image/png": "[encoded data removed]",
      "text/plain": [
       "<matplotlib.figure.Figure at 0x10aa9b668>"
      ]
     },
     "metadata": {},
     "output_type": "display_data"
    }
   ],
   "source": [
    "plt.plot(teff, age, \"k.\")\n",
    "plt.xlabel(\"teff (K)\")\n",
    "plt.ylabel(\"age (Gyr)\")\n",
    "\n",
    "# GP prediction\n",
    "A, l = 10, 2000\n",
    "k = A**2 * ExpSquaredKernel(l**2)\n",
    "gp = george.GP(k)\n",
    "gp.compute(teff, aerr)\n",
    "#gp.optimize(teff, age, aerr)\n",
    "xs = np.linspace(min(teff), max(teff), 1000)\n",
    "mu, cov = gp.predict(age, xs)  # do the prediction\n",
    "v = np.diag(cov)**.5\n",
    "plt.plot(xs, mu)\n",
    "plt.fill_between(xs, mu-v, mu+v, alpha=.2)"
   ]
  },
  {
   "cell_type": "code",
   "execution_count": 20,
   "metadata": {
    "collapsed": false
   },
   "outputs": [
    {
     "name": "stdout",
     "output_type": "stream",
     "text": [
      "Optimization terminated successfully.\n"
     ]
    },
    {
     "data": {
      "text/plain": [
       "<matplotlib.collections.PolyCollection at 0x10eb134a8>"
      ]
     },
     "execution_count": 20,
     "metadata": {},
     "output_type": "execute_result"
    },
    {
     "name": "stderr",
     "output_type": "stream",
     "text": [
      "/Users/ruthangus/anaconda/lib/python3.5/site-packages/matplotlib/collections.py:590: FutureWarning: elementwise comparison failed; returning scalar instead, but in the future will perform elementwise comparison\n",
      "  if self._edgecolors == str('face'):\n"
     ]
    },
    {
     "data": {
      "image/png": "[encoded data removed]",
      "text/plain": [
       "<matplotlib.figure.Figure at 0x10ed82cc0>"
      ]
     },
     "metadata": {},
     "output_type": "display_data"
    }
   ],
   "source": [
    "plt.plot(z, age, \"k.\")\n",
    "plt.xlabel(\"z\")\n",
    "plt.ylabel(\"age (Gyr)\")\n",
    "\n",
    "# GP prediction\n",
    "A, l = 10, .8\n",
    "k = A**2 * ExpSquaredKernel(l**2)\n",
    "gp = george.GP(k)\n",
    "gp.compute(z, aerr)\n",
    "gp.optimize(z, age, aerr)\n",
    "xs = np.linspace(min(z), max(z), 1000)\n",
    "mu, cov = gp.predict(age, xs)  # do the prediction\n",
    "v = np.diag(cov)**.5\n",
    "plt.plot(xs, mu)\n",
    "plt.fill_between(xs, mu-v, mu+v, alpha=.2)"
   ]
  },
  {
   "cell_type": "code",
   "execution_count": 86,
   "metadata": {
    "collapsed": false
   },
   "outputs": [],
   "source": []
  },
  {
   "cell_type": "markdown",
   "metadata": {},
   "source": [
    "Now do the 3d version\n"
   ]
  },
  {
   "cell_type": "code",
   "execution_count": 91,
   "metadata": {
    "collapsed": false
   },
   "outputs": [
    {
     "name": "stdout",
     "output_type": "stream",
     "text": [
      "[ 4.57009367]\n"
     ]
    }
   ],
   "source": [
    "# set your x, y z and hyperparameters\n",
    "D = np.vstack((teff, period)).T\n",
    "A, lt, lp = 10, 2000, 50\n",
    "\n",
    "# GP prediction\n",
    "k = A**2 * ExpSquaredKernel([lt**2, lp**2], ndim=2)\n",
    "gp = george.GP(k)\n",
    "gp.compute(D, aerr)\n",
    "\n",
    "xs = np.zeros((1, 2))\n",
    "xs[0, 0] = 5700\n",
    "xs[0, 1] = 26\n",
    "\n",
    "mu, cov = gp.predict(age, xs)  # do the prediction\n",
    "print mu\n",
    "v = np.diag(cov)**.5"
   ]
  },
  {
   "cell_type": "code",
   "execution_count": null,
   "metadata": {
    "collapsed": false
   },
   "outputs": [],
   "source": []
  }
 ],
 "metadata": {
  "kernelspec": {
   "display_name": "Python 3",
   "language": "python",
   "name": "python3"
  },
  "language_info": {
   "codemirror_mode": {
    "name": "ipython",
    "version": 3
   },
   "file_extension": ".py",
   "mimetype": "text/x-python",
   "name": "python",
   "nbconvert_exporter": "python",
   "pygments_lexer": "ipython3",
   "version": "3.5.1"
  }
 },
 "nbformat": 4,
 "nbformat_minor": 0
}
